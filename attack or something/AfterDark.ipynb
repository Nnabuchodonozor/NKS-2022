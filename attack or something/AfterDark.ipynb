{
 "cells": [
  {
   "cell_type": "code",
   "execution_count": null,
   "id": "e00893f3-b364-4cce-b219-9973a4165863",
   "metadata": {},
   "outputs": [],
   "source": []
  },
  {
   "cell_type": "code",
   "execution_count": 1,
   "id": "74d11ce5-3ee0-45df-920b-26d154a27ddc",
   "metadata": {},
   "outputs": [
    {
     "ename": "SyntaxError",
     "evalue": "Missing parentheses in call to 'print'. Did you mean print(...)? (3245623094.py, line 6)",
     "output_type": "error",
     "traceback": [
      "\u001b[0;36m  Cell \u001b[0;32mIn [1], line 6\u001b[0;36m\u001b[0m\n\u001b[0;31m    print \"[-] Starting search for s1 (from value %i)\" % s1\u001b[0m\n\u001b[0m    ^\u001b[0m\n\u001b[0;31mSyntaxError\u001b[0m\u001b[0;31m:\u001b[0m Missing parentheses in call to 'print'. Did you mean print(...)?\n"
     ]
    }
   ],
   "source": [
    "# computes the smallest integer greater than or equal to x/y\n",
    "def ceil(x,y):\n",
    "    return x/y + (x%y != 0)\n",
    "\n",
    "s1 = ceil(n,3*B) # this is the starting value for s1\n",
    "print \"[-] Starting search for s1 (from value %i)\" % s1\n",
    "i2a = 1          # counter for iterations\n",
    "while True:\n",
    "    m1 = (s1 * m0) % n\n",
    "    if sO(m1):   # call the (simulated) oracle\n",
    "        break    # padding is correct, we have found s1\n",
    "    i2a += 1\n",
    "    s1 += 1      # try next value of s1\n",
    "print(\"[*] Search done in %i iterations\" % i2a)\n",
    "print(\"    s1: %i\" % s1)"
   ]
  },
  {
   "cell_type": "code",
   "execution_count": null,
   "id": "9e3d6edb-8ddf-4f4b-b4ed-d45d15362c44",
   "metadata": {},
   "outputs": [],
   "source": []
  }
 ],
 "metadata": {
  "kernelspec": {
   "display_name": "Python 3 (ipykernel)",
   "language": "python",
   "name": "python3"
  },
  "language_info": {
   "codemirror_mode": {
    "name": "ipython",
    "version": 3
   },
   "file_extension": ".py",
   "mimetype": "text/x-python",
   "name": "python",
   "nbconvert_exporter": "python",
   "pygments_lexer": "ipython3",
   "version": "3.10.8"
  }
 },
 "nbformat": 4,
 "nbformat_minor": 5
}
